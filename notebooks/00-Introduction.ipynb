{
 "cells": [
  {
   "cell_type": "markdown",
   "metadata": {
    "deletable": true,
    "editable": true
   },
   "source": [
    "# Programmatic Data Visualization with Plotly in Python\n",
    "\n",
    "## Requirements\n",
    "\n",
    "For simplicity, I'll be running all of these notebooks in Python 2.7. However, all the packages support Python 3 just as well.\n",
    "\n",
    "This set of notebooks requires the following:\n",
    "\n",
    "* Please visit https://plot.ly and create an account (free)\n",
    "* Please install the following packages `numpy`, `pandas`, and `plotly`\n",
    "* Please follow the instructions at https://plot.ly/python/getting-started/\n",
    "\n",
    "### Virtual environments and Jupyter notebooks\n",
    "\n",
    "If you are using a virtual environment (a good choice), you'll need to do a little extra footwork. After you've created a virtual environment (I'll assume you know how to do this if you're choosing this solution), you need to create a new Python kernel for your notebook server.\n",
    "\n",
    "Here's the documentation on it: https://ipython.readthedocs.io/en/stable/install/kernel_install.html#kernels-for-different-environments\n",
    "\n",
    "It boils down to `pip`-installing `ipykernel` and running the following command (after you've activated your virtual environment):\n",
    "\n",
    "`python -m ipykernel install --user --name <myenv> --display-name \"Python (<myenv>)\"`\n",
    "\n",
    "Where `<myenv>` should be a string that you will use to organize your kernels. For example, I did something like the following to prepare for this workshop:\n",
    "\n",
    "```bash\n",
    "$ virtualenv sf-data\n",
    "$ cd sf-data\n",
    "$ source bin/activate\n",
    "$ python -m ipykernel install --user --name sf-data --display-name \"Python (sf-data)\"\n",
    "```\n",
    "\n",
    "When I create a new notebook, I can now see `Python (sf-data)` as one of the kernel choices.\n",
    "\n",
    "## Helpful links\n",
    "\n",
    "Plotly has a *ton* of documentation to pull from you can access it all at https://plot.ly/python/. Here's a short list of topics we're going to gover here.\n",
    "\n",
    "* [Getting Started](https://plot.ly/python/getting-started/)\n",
    "* [Offline Plotting](https://plot.ly/python/offline/)\n",
    "* [Figure Reference](https://plot.ly/python/reference/)\n",
    "* [Cheat Sheet](https://images.plot.ly/plotly-documentation/images/python_cheat_sheet.pdf)\n",
    "\n",
    "## Overview\n",
    "\n",
    "In this tutorial, we're going to go from a simple \"Hello World\" example to creating complex, beautiful plots in Plotly with Python. The goal is not to give a talk, but rather to work through examples with everyone. Specifically, we'll cover:\n",
    "\n",
    "* Getting Started (basic setup for using the `plotly` module.\n",
    "* Plotting Commands\n",
    "* Offline Plotting\n",
    "* The `figure_factory` module\n",
    "* Validation of figures and graph objects\n",
    "* Animations\n",
    "* A Real-World Example of Data Exploration"
   ]
  },
  {
   "cell_type": "markdown",
   "metadata": {
    "deletable": true,
    "editable": true
   },
   "source": [
    "# The Plotly `figure` object\n",
    "\n",
    "Before we get going, let's nail down what we mean when we say `figure`. In Plotly, visualizations are created from JSON objects--figures. Here's the *basic* structure of a `figure`:\n",
    "\n",
    "```python\n",
    "{\n",
    "  'data': [ .. ],\n",
    "  'layout': { .. }\n",
    "}\n",
    "```\n",
    "\n",
    "## The `data` array (and `trace` entries)\n",
    "\n",
    "`data` is where you add arrays of numbers (the stuff we're trying to visualize). We call each entry in the `data` array a *trace*. Traces contain the values you want to visualize in some way (e.g., `x` and `y`). Here's an example of a trace that visualizes some `x` and `y` data as a set of bars (inches of water in Tahoe City for the 2016/2017 water year so far).\n",
    "\n",
    "```python\n",
    "{'type': 'bar', 'x': ['Oct', 'Nov', 'Dec', 'Jan'], 'y': [9.04, 2.25, 7.02, 21.33]}\n",
    "```\n",
    "\n",
    "## The `layout` object\n",
    "\n",
    "`layout` is where we set more global plot custimizations like font, plot title, and legend position. Here's a layout that just sets some titles to assist the viewer.\n",
    "\n",
    "```python\n",
    "{'title': '2016/2017 Tahoe City Precipitation', 'yaxis': {'title': 'Observed Precipitation (inches)'}}\n",
    "```\n",
    "\n",
    "## Tying things together\n",
    "\n",
    "Pulling this all together, we have a JSON description of our visualization--the `figure`:\n",
    "\n",
    "```python\n",
    "{\n",
    "    'data': [\n",
    "        {\n",
    "            'type': 'bar',\n",
    "            'x': ['Oct', 'Nov', 'Dec', 'Jan'],\n",
    "            'y': [9.04, 2.25, 7.02, 21.33]\n",
    "        }\n",
    "    ],\n",
    "    'layout': {\n",
    "        'title': '2016/2017 Tahoe City Precipitation',\n",
    "        'yaxis': {\n",
    "            'title': 'Observed Precipitation (inches)'\n",
    "        }\n",
    "    }\n",
    "}\n",
    "```\n",
    "\n",
    "If you're familiar with [Plotly's Workspace](https://plot.ly/create), if you were to upload the data set and use the GUI to link the `x` and `y` data, you'd basically get the same underlying `figure`.\n"
   ]
  },
  {
   "cell_type": "markdown",
   "metadata": {
    "deletable": true,
    "editable": true
   },
   "source": [
    "# Hello World\n",
    "\n",
    "Ok, let's plot that."
   ]
  },
  {
   "cell_type": "code",
   "execution_count": 1,
   "metadata": {
    "collapsed": false,
    "deletable": true,
    "editable": true
   },
   "outputs": [
    {
     "data": {
      "text/html": [
       "<iframe id=\"igraph\" scrolling=\"no\" style=\"border:none;\" seamless=\"seamless\" src=\"https://plot.ly/~theengineear/6019.embed\" height=\"525px\" width=\"100%\"></iframe>"
      ],
      "text/plain": [
       "<plotly.tools.PlotlyDisplay object>"
      ]
     },
     "execution_count": 1,
     "metadata": {},
     "output_type": "execute_result"
    }
   ],
   "source": [
    "import plotly.plotly as py\n",
    "\n",
    "# If you haven't setup your credentials, this will fail for you.\n",
    "# Hang tight, we'll make sure that's been setup correctly next.\n",
    "figure = {\n",
    "    'data': [\n",
    "        {\n",
    "            'type': 'bar',\n",
    "            'x': ['Oct', 'Nov', 'Dec', 'Jan'],\n",
    "            'y': [9.04, 2.25, 7.02, 21.33]\n",
    "        }\n",
    "    ],\n",
    "    'layout': {\n",
    "        'title': '2016/2017 Tahoe City Precipitation',\n",
    "        'yaxis': {\n",
    "            'title': 'Observed Precipitation (inches)'\n",
    "        }\n",
    "    }\n",
    "}\n",
    "\n",
    "# This sends our figure to a Plotly server.\n",
    "# A url is returned to us and we use it do drop an iframe into the notebook.\n",
    "py.iplot(figure, filename='sf-data-tahoe-precipitation')"
   ]
  },
  {
   "cell_type": "markdown",
   "metadata": {
    "deletable": true,
    "editable": true
   },
   "source": [
    "# What's in the box\n",
    "\n",
    "Nice! Just a few lines of code and we get all the following:\n",
    "\n",
    "* Default color choices that are nice on the eyes.\n",
    "* Font choices that are nice on the eyes.\n",
    "* X/Y data pops up when you hover on each data \"point\" (bar).\n",
    "* Other built-in interactions: pan, zoom, double-click resize, and a static download option."
   ]
  },
  {
   "cell_type": "code",
   "execution_count": null,
   "metadata": {
    "collapsed": true,
    "deletable": true,
    "editable": true
   },
   "outputs": [],
   "source": []
  }
 ],
 "metadata": {
  "kernelspec": {
   "display_name": "Python (data-sf)",
   "language": "python",
   "name": "data-sf"
  },
  "language_info": {
   "codemirror_mode": {
    "name": "ipython",
    "version": 2
   },
   "file_extension": ".py",
   "mimetype": "text/x-python",
   "name": "python",
   "nbconvert_exporter": "python",
   "pygments_lexer": "ipython2",
   "version": "2.7.11"
  }
 },
 "nbformat": 4,
 "nbformat_minor": 2
}
