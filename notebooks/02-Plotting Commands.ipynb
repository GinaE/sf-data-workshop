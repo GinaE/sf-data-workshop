{
 "cells": [
  {
   "cell_type": "markdown",
   "metadata": {
    "deletable": true,
    "editable": true
   },
   "source": [
    "# `iplot` and `plot`\n",
    "\n",
    "We'll now cover the core plotting commands. You use `iplot` when you are in a notebook environment to view the interactive plot inline. Under the hood, `iplot` is calling `plot` to save the `figure` you've created and returns a url for that visualization.\n",
    "\n",
    "Note that if you specify a `filename`, you can reuse the the same underlying file."
   ]
  },
  {
   "cell_type": "code",
   "execution_count": 1,
   "metadata": {
    "collapsed": false,
    "deletable": true,
    "editable": true
   },
   "outputs": [
    {
     "name": "stdout",
     "output_type": "stream",
     "text": [
      "https://plot.ly/~theengineear/6021\n",
      "https://plot.ly/~theengineear/6021\n"
     ]
    },
    {
     "data": {
      "text/html": [
       "<iframe id=\"igraph\" scrolling=\"no\" style=\"border:none;\" seamless=\"seamless\" src=\"https://plot.ly/~theengineear/6021.embed\" height=\"525px\" width=\"100%\"></iframe>"
      ],
      "text/plain": [
       "<plotly.tools.PlotlyDisplay object>"
      ]
     },
     "execution_count": 1,
     "metadata": {},
     "output_type": "execute_result"
    }
   ],
   "source": [
    "from plotly.plotly import iplot, plot\n",
    "\n",
    "inagurations = [\n",
    "    'Clinton (1993)', 'Clinton (1997)', 'Bush (2001)', 'Bush (2005)', 'Obama (2009)', 'Obama (2013)',\n",
    "    'Trump (2017)', 'Trump (2017)'\n",
    "]\n",
    "estimated_attendance = [800000, 250000, 300000, 400000, 1800000, 1000000, 600000, 250000]\n",
    "colors = ['#001f3f', '#001f3f', '#001f3f', '#001f3f', '#001f3f', '#001f3f', '#FF851B', '#001f3f']\n",
    "figure = {\n",
    "    'data': [{'type': 'bar', 'x': inagurations, 'y': estimated_attendance, 'marker': {'color': colors}}],\n",
    "    'layout': {\n",
    "        'barmode': 'overlay',\n",
    "        'title': 'Estimations of Inaguration Attendance',\n",
    "        'yaxis': {'title': '<em>Estimated</em> Inaguration Attendance'},\n",
    "        'annotations': [\n",
    "            {\n",
    "                'text': 'Politifact gives an upper<br>and lower estimate for Trump.<br><a href=\"http://www.politifact.com/truth-o-meter/statements/2017/jan/21/sean-spicer/trump-had-biggest-inaugural-crowd-ever-metrics-don/\">(source: politifact)</a>',\n",
    "                'showarrow': False,\n",
    "                'align': 'left',\n",
    "                'xref': 'paper',\n",
    "                'yref': 'paper',\n",
    "                'x': 0,\n",
    "                'y': 0.9\n",
    "            }\n",
    "        ]\n",
    "    }\n",
    "}\n",
    "print(plot(figure, filename='sf-data-inaguration-attendance', auto_open=False))\n",
    "print(plot(figure, filename='sf-data-inaguration-attendance', auto_open=False))\n",
    "iplot(figure, filename='sf-data-inaguration-attendance')"
   ]
  },
  {
   "cell_type": "markdown",
   "metadata": {
    "deletable": true,
    "editable": true
   },
   "source": [
    "# Some notes\n",
    "\n",
    "## HTML can go into text-y values\n",
    "\n",
    "Notice how you can throw html `<a>` tags, `<em>`, etc into the text you add in the figure. This makes it easy to source your data and emphasize things... like that these are all just *estimates* (let's not get too political).\n",
    "\n",
    "## Annotations can be added in `layout`\n",
    "\n",
    "You can find documentation on this [here](https://plot.ly/python/text-and-annotations/). In this example, setting the `xref` and `yref` to `paper` allows me to ensure that the annotation doesn't move around when the axes are zoomed in on or the viewer pans around.\n",
    "\n",
    "## Styles as arrays\n",
    "\n",
    "Many of the style attributes for a trace accept *arrays* of values which will be applied to each data point sequentially. Here, if I had specified `color = 'red'`, all the bars would be red. Instead, I am able to assign a specific color to each bar. This allows me to draw attention to the *two* estimates of the most recent inaguration innaguration attendance.\n",
    "\n",
    "## Plotly is smart about numbers\n",
    "\n",
    "Note how the numbers are automatically converte from something like `1000000` to `1M` for me. While I have control over this, the default behavior is typically what I *want*."
   ]
  },
  {
   "cell_type": "code",
   "execution_count": null,
   "metadata": {
    "collapsed": true,
    "deletable": true,
    "editable": true
   },
   "outputs": [],
   "source": []
  }
 ],
 "metadata": {
  "kernelspec": {
   "display_name": "Python (data-sf)",
   "language": "python",
   "name": "data-sf"
  },
  "language_info": {
   "codemirror_mode": {
    "name": "ipython",
    "version": 2
   },
   "file_extension": ".py",
   "mimetype": "text/x-python",
   "name": "python",
   "nbconvert_exporter": "python",
   "pygments_lexer": "ipython2",
   "version": "2.7.11"
  }
 },
 "nbformat": 4,
 "nbformat_minor": 2
}
