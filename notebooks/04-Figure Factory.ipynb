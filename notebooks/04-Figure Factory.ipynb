{
 "cells": [
  {
   "cell_type": "markdown",
   "metadata": {
    "deletable": true,
    "editable": true
   },
   "source": [
    "# `figure_factory`\n",
    "\n",
    "The Python API also provides a *bleeding edge* for new chart types that it exposes via the `figure_factory` module.\n",
    "\n",
    "For example, even though `plotly.js` does *not* yet provide a way to make a `gantt` chart, you can use `figure_factory.create_gantt`.\n",
    "\n",
    "While useful, note that the `figure_factory` module should be considered experimental.\n",
    "\n",
    "Note that because `figure_factory` uses `numpy` heavily, it is explicitly required when you attempt to access `figure_factory`."
   ]
  },
  {
   "cell_type": "code",
   "execution_count": 1,
   "metadata": {
    "collapsed": false,
    "deletable": true,
    "editable": true
   },
   "outputs": [
    {
     "data": {
      "text/html": [
       "<iframe id=\"igraph\" scrolling=\"no\" style=\"border:none;\" seamless=\"seamless\" src=\"https://plot.ly/~theengineear/6014.embed\" height=\"600px\" width=\"900px\"></iframe>"
      ],
      "text/plain": [
       "<plotly.tools.PlotlyDisplay object>"
      ]
     },
     "execution_count": 1,
     "metadata": {},
     "output_type": "execute_result"
    }
   ],
   "source": [
    "from plotly import figure_factory\n",
    "from plotly.plotly import iplot\n",
    "\n",
    "jobs = [\n",
    "    {'Task': 'Brainstorm', 'Start': '2017-03-01', 'Finish': '2017-03-05'},\n",
    "    {'Task': 'Phase I', 'Start': '2017-03-10', 'Finish': '2017-03-15'},\n",
    "    {'Task': 'Phase II', 'Start': '2017-03-20', 'Finish': '2017-03-25'}\n",
    "]\n",
    "\n",
    "figure = figure_factory.create_gantt(jobs)\n",
    "iplot(figure, filename='sf-data-gantt')"
   ]
  },
  {
   "cell_type": "markdown",
   "metadata": {
    "deletable": true,
    "editable": true
   },
   "source": [
    "# What did that do?\n",
    "\n",
    "Under the hood, the `create_*` functions are just creating collections of traces and returning an entire figure object for you to plot. In this case, we're just getting a handy collection of horizontal bars."
   ]
  },
  {
   "cell_type": "code",
   "execution_count": 2,
   "metadata": {
    "collapsed": false,
    "deletable": true,
    "editable": true
   },
   "outputs": [
    {
     "name": "stdout",
     "output_type": "stream",
     "text": [
      "[{'marker': {'color': 'white'}, 'y': [0, 0], 'name': '', 'x': ['2017-03-01', '2017-03-05']}, {'marker': {'color': 'white'}, 'y': [1, 1], 'name': '', 'x': ['2017-03-10', '2017-03-15']}, {'marker': {'color': 'white'}, 'y': [2, 2], 'name': '', 'x': ['2017-03-20', '2017-03-25']}]\n"
     ]
    }
   ],
   "source": [
    "print(figure['data'])"
   ]
  },
  {
   "cell_type": "markdown",
   "metadata": {},
   "source": [
    "# Other things you can do with `figure_factory`\n",
    "\n",
    "* [create_2d_density](https://plot.ly/python/density-plots/)\n",
    "* [create_annotated_heatmap](https://plot.ly/python/annotated_heatmap/)\n",
    "* [create_candlestick](https://plot.ly/python/candlestick-charts/)\n",
    "* [create_dendrogram](https://plot.ly/python/dendrogram/)\n",
    "* [create_distplot](https://plot.ly/python/distplot/)\n",
    "* [create_gantt](https://plot.ly/python/gantt/)\n",
    "* [create_ohlc](https://plot.ly/python/ohlc-charts/)\n",
    "* [create_quiver](https://plot.ly/python/quiver-plots/)\n",
    "* [create_scatterplotmatrix](https://plot.ly/python/scatterplot-matrix/)\n",
    "* [create_streamline](https://plot.ly/python/streamline-plots/)\n",
    "* [create_table](https://plot.ly/python/table/)\n",
    "* [create_trisurf](https://plot.ly/python/trisurf/)\n",
    "* [create_violin](https://plot.ly/python/violin-plot/)"
   ]
  },
  {
   "cell_type": "code",
   "execution_count": null,
   "metadata": {
    "collapsed": true
   },
   "outputs": [],
   "source": []
  }
 ],
 "metadata": {
  "kernelspec": {
   "display_name": "Python (data-sf)",
   "language": "python",
   "name": "data-sf"
  },
  "language_info": {
   "codemirror_mode": {
    "name": "ipython",
    "version": 2
   },
   "file_extension": ".py",
   "mimetype": "text/x-python",
   "name": "python",
   "nbconvert_exporter": "python",
   "pygments_lexer": "ipython2",
   "version": "2.7.11"
  }
 },
 "nbformat": 4,
 "nbformat_minor": 2
}
