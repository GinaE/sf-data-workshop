{
 "cells": [
  {
   "cell_type": "markdown",
   "metadata": {
    "collapsed": true,
    "deletable": true,
    "editable": true
   },
   "source": [
    "# Animations\n",
    "\n",
    "https://plot.ly/python/animations/\n",
    "\n",
    "## `frames`\n",
    "\n",
    "`plotly.js` uses an array of `frames` to animate things. You can read more about that in the [`plotly.js` animations reference page](https://plot.ly/javascript/animations/).\n",
    "\n",
    "The simplest way to think of a frame is that *each frame is a complete Plotly `figure`*. When you're creating an animation, your visualization will transition from one frame to the next until you are at the end of your frames.\n",
    "\n",
    "`frames` support is still in beta-mode in the Python API lib, so you must use a separate plotting function for now to create animations.\n",
    "\n",
    "## Offline animations\n",
    "\n",
    "Because we're using a local plotly.js when we're doing `offline` plotting, we are *not* restricted to using a `Grid` object like we are for `online` plotting.\n",
    "\n",
    "## Example\n",
    "\n",
    "Here, we'll visualize the motion of a point through time. There are three ways to visualize this:\n",
    "\n",
    "1. As a 2D visualization (without a notion of time).\n",
    "2. As a 3D visualization (with time on the z-axis).\n",
    "3. As a 2D animation.\n"
   ]
  },
  {
   "cell_type": "code",
   "execution_count": 1,
   "metadata": {
    "collapsed": false,
    "deletable": true,
    "editable": true
   },
   "outputs": [
    {
     "data": {
      "text/html": [
       "<script>requirejs.config({paths: { 'plotly': ['https://cdn.plot.ly/plotly-latest.min']},});if(!window.Plotly) {{require(['plotly'],function(plotly) {window.Plotly=plotly;});}}</script>"
      ],
      "text/plain": [
       "<IPython.core.display.HTML object>"
      ]
     },
     "metadata": {},
     "output_type": "display_data"
    }
   ],
   "source": [
    "from plotly.offline import init_notebook_mode, iplot, plot\n",
    "init_notebook_mode(connected=True)\n",
    "\n",
    "t = [0, 1, 2, 3, 4, 5, 6, 7, 8, 9, 10, 11]\n",
    "x1 = [0, 1, 2, 0, 1, 2, 0, 1, 2, 0, 1, 2]\n",
    "y1 = [0, 2, 0, 0, 2, 0, 0, 2, 0, 0, 2, 0]\n",
    "x2 = [2, 1, 0, 2, 1, 0, 2, 1, 0, 2, 1, 0]\n",
    "y2 = [0, 2, 0, 0, 2, 0, 0, 2, 0, 0, 2, 0]"
   ]
  },
  {
   "cell_type": "code",
   "execution_count": 2,
   "metadata": {
    "collapsed": false,
    "deletable": true,
    "editable": true
   },
   "outputs": [
    {
     "data": {
      "application/vnd.plotly.v1+json": {
       "data": [
        {
         "type": "scatter",
         "x": [
          0,
          1,
          2,
          0,
          1,
          2,
          0,
          1,
          2,
          0,
          1,
          2
         ],
         "y": [
          0,
          2,
          0,
          0,
          2,
          0,
          0,
          2,
          0,
          0,
          2,
          0
         ]
        },
        {
         "type": "scatter",
         "x": [
          2,
          1,
          0,
          2,
          1,
          0,
          2,
          1,
          0,
          2,
          1,
          0
         ],
         "y": [
          0,
          2,
          0,
          0,
          2,
          0,
          0,
          2,
          0,
          0,
          2,
          0
         ]
        }
       ],
       "layout": {}
      },
      "text/html": [
       "<div id=\"4e9cbd27-39d9-4695-9163-5a48bdb9d4e2\" style=\"height: 525px; width: 100%;\" class=\"plotly-graph-div\"></div><script type=\"text/javascript\">require([\"plotly\"], function(Plotly) { window.PLOTLYENV=window.PLOTLYENV || {};window.PLOTLYENV.BASE_URL=\"https://plot.ly\";Plotly.newPlot(\"4e9cbd27-39d9-4695-9163-5a48bdb9d4e2\", [{\"y\": [0, 2, 0, 0, 2, 0, 0, 2, 0, 0, 2, 0], \"x\": [0, 1, 2, 0, 1, 2, 0, 1, 2, 0, 1, 2], \"type\": \"scatter\"}, {\"y\": [0, 2, 0, 0, 2, 0, 0, 2, 0, 0, 2, 0], \"x\": [2, 1, 0, 2, 1, 0, 2, 1, 0, 2, 1, 0], \"type\": \"scatter\"}], {}, {\"linkText\": \"Export to plot.ly\", \"showLink\": true})});</script>"
      ]
     },
     "metadata": {},
     "output_type": "display_data"
    }
   ],
   "source": [
    "fig_2d = {\n",
    "    'data': [\n",
    "        {'type': 'scatter', 'x': x1, 'y': y1},\n",
    "        {'type': 'scatter', 'x': x2, 'y': y2}\n",
    "    ]\n",
    "}\n",
    "iplot(fig_2d)"
   ]
  },
  {
   "cell_type": "code",
   "execution_count": 3,
   "metadata": {
    "collapsed": false,
    "deletable": true,
    "editable": true
   },
   "outputs": [
    {
     "data": {
      "application/vnd.plotly.v1+json": {
       "data": [
        {
         "type": "scatter3d",
         "x": [
          0,
          1,
          2,
          0,
          1,
          2,
          0,
          1,
          2,
          0,
          1,
          2
         ],
         "y": [
          0,
          2,
          0,
          0,
          2,
          0,
          0,
          2,
          0,
          0,
          2,
          0
         ],
         "z": [
          0,
          1,
          2,
          3,
          4,
          5,
          6,
          7,
          8,
          9,
          10,
          11
         ]
        },
        {
         "type": "scatter3d",
         "x": [
          2,
          1,
          0,
          2,
          1,
          0,
          2,
          1,
          0,
          2,
          1,
          0
         ],
         "y": [
          0,
          2,
          0,
          0,
          2,
          0,
          0,
          2,
          0,
          0,
          2,
          0
         ],
         "z": [
          0,
          1,
          2,
          3,
          4,
          5,
          6,
          7,
          8,
          9,
          10,
          11
         ]
        }
       ],
       "layout": {}
      },
      "text/html": [
       "<div id=\"077baaf5-c76b-4638-a795-afbeb1cbada2\" style=\"height: 525px; width: 100%;\" class=\"plotly-graph-div\"></div><script type=\"text/javascript\">require([\"plotly\"], function(Plotly) { window.PLOTLYENV=window.PLOTLYENV || {};window.PLOTLYENV.BASE_URL=\"https://plot.ly\";Plotly.newPlot(\"077baaf5-c76b-4638-a795-afbeb1cbada2\", [{\"y\": [0, 2, 0, 0, 2, 0, 0, 2, 0, 0, 2, 0], \"x\": [0, 1, 2, 0, 1, 2, 0, 1, 2, 0, 1, 2], \"z\": [0, 1, 2, 3, 4, 5, 6, 7, 8, 9, 10, 11], \"type\": \"scatter3d\"}, {\"y\": [0, 2, 0, 0, 2, 0, 0, 2, 0, 0, 2, 0], \"x\": [2, 1, 0, 2, 1, 0, 2, 1, 0, 2, 1, 0], \"z\": [0, 1, 2, 3, 4, 5, 6, 7, 8, 9, 10, 11], \"type\": \"scatter3d\"}], {}, {\"linkText\": \"Export to plot.ly\", \"showLink\": true})});</script>"
      ]
     },
     "metadata": {},
     "output_type": "display_data"
    }
   ],
   "source": [
    "fig_3d = {\n",
    "    'data': [\n",
    "        {'type': 'scatter3d', 'x': x1, 'y': y1, 'z': t},\n",
    "        {'type': 'scatter3d', 'x': x2, 'y': y2, 'z': t}\n",
    "    ]\n",
    "}\n",
    "iplot(fig_3d, filename='sf-data-3d')"
   ]
  },
  {
   "cell_type": "code",
   "execution_count": 4,
   "metadata": {
    "collapsed": false,
    "deletable": true,
    "editable": true
   },
   "outputs": [
    {
     "data": {
      "application/vnd.plotly.v1+json": {
       "data": [
        {
         "mode": "lines",
         "showlegend": false,
         "type": "scatter",
         "x": [
          0,
          1,
          2,
          0,
          1,
          2,
          0,
          1,
          2,
          0,
          1,
          2
         ],
         "y": [
          0,
          2,
          0,
          0,
          2,
          0,
          0,
          2,
          0,
          0,
          2,
          0
         ]
        },
        {
         "mode": "lines",
         "showlegend": false,
         "type": "scatter",
         "x": [
          2,
          1,
          0,
          2,
          1,
          0,
          2,
          1,
          0,
          2,
          1,
          0
         ],
         "y": [
          0,
          2,
          0,
          0,
          2,
          0,
          0,
          2,
          0,
          0,
          2,
          0
         ]
        },
        {
         "mode": "lines",
         "showlegend": false,
         "type": "scatter",
         "x": [
          0,
          1,
          2,
          0,
          1,
          2,
          0,
          1,
          2,
          0,
          1,
          2
         ],
         "y": [
          0,
          2,
          0,
          0,
          2,
          0,
          0,
          2,
          0,
          0,
          2,
          0
         ]
        },
        {
         "mode": "lines",
         "showlegend": false,
         "type": "scatter",
         "x": [
          2,
          1,
          0,
          2,
          1,
          0,
          2,
          1,
          0,
          2,
          1,
          0
         ],
         "y": [
          0,
          2,
          0,
          0,
          2,
          0,
          0,
          2,
          0,
          0,
          2,
          0
         ]
        }
       ],
       "layout": {
        "updatemenus": [
         {
          "buttons": [
           {
            "args": [
             null
            ],
            "label": "Play",
            "method": "animate"
           }
          ],
          "pad": {
           "r": 10,
           "t": 87
          },
          "showactive": false,
          "type": "buttons"
         }
        ],
        "xaxis": {
         "range": [
          -1,
          3
         ]
        },
        "yaxis": {
         "range": [
          -1,
          3
         ]
        }
       }
      },
      "text/html": [
       "<div id=\"e27a3661-2b09-4565-ac43-5836e1f6a6b2\" style=\"height: 525px; width: 100%;\" class=\"plotly-graph-div\"></div><script type=\"text/javascript\">require([\"plotly\"], function(Plotly) { window.PLOTLYENV=window.PLOTLYENV || {};window.PLOTLYENV.BASE_URL=\"https://plot.ly\";\n",
       "        Plotly.plot(\n",
       "            'e27a3661-2b09-4565-ac43-5836e1f6a6b2',\n",
       "            [{\"y\": [0, 2, 0, 0, 2, 0, 0, 2, 0, 0, 2, 0], \"x\": [0, 1, 2, 0, 1, 2, 0, 1, 2, 0, 1, 2], \"showlegend\": false, \"type\": \"scatter\", \"mode\": \"lines\"}, {\"y\": [0, 2, 0, 0, 2, 0, 0, 2, 0, 0, 2, 0], \"x\": [2, 1, 0, 2, 1, 0, 2, 1, 0, 2, 1, 0], \"showlegend\": false, \"type\": \"scatter\", \"mode\": \"lines\"}, {\"y\": [0, 2, 0, 0, 2, 0, 0, 2, 0, 0, 2, 0], \"x\": [0, 1, 2, 0, 1, 2, 0, 1, 2, 0, 1, 2], \"showlegend\": false, \"type\": \"scatter\", \"mode\": \"lines\"}, {\"y\": [0, 2, 0, 0, 2, 0, 0, 2, 0, 0, 2, 0], \"x\": [2, 1, 0, 2, 1, 0, 2, 1, 0, 2, 1, 0], \"showlegend\": false, \"type\": \"scatter\", \"mode\": \"lines\"}],\n",
       "            {\"xaxis\": {\"range\": [-1, 3]}, \"updatemenus\": [{\"buttons\": [{\"args\": [null], \"method\": \"animate\", \"label\": \"Play\"}], \"pad\": {\"r\": 10, \"t\": 87}, \"showactive\": false, \"type\": \"buttons\"}], \"yaxis\": {\"range\": [-1, 3]}},\n",
       "            {\"linkText\": \"Export to plot.ly\", \"showLink\": true}\n",
       "        ).then(function () {return Plotly.addFrames('e27a3661-2b09-4565-ac43-5836e1f6a6b2',[{\"data\": [{\"marker\": {\"size\": 10}, \"x\": [0], \"type\": \"scatter\", \"mode\": \"markers\", \"y\": [0]}, {\"marker\": {\"size\": 10}, \"x\": [2], \"type\": \"scatter\", \"mode\": \"markers\", \"y\": [0]}]}, {\"data\": [{\"marker\": {\"size\": 10}, \"x\": [1], \"type\": \"scatter\", \"mode\": \"markers\", \"y\": [2]}, {\"marker\": {\"size\": 10}, \"x\": [1], \"type\": \"scatter\", \"mode\": \"markers\", \"y\": [2]}]}, {\"data\": [{\"marker\": {\"size\": 10}, \"x\": [2], \"type\": \"scatter\", \"mode\": \"markers\", \"y\": [0]}, {\"marker\": {\"size\": 10}, \"x\": [0], \"type\": \"scatter\", \"mode\": \"markers\", \"y\": [0]}]}, {\"data\": [{\"marker\": {\"size\": 10}, \"x\": [0], \"type\": \"scatter\", \"mode\": \"markers\", \"y\": [0]}, {\"marker\": {\"size\": 10}, \"x\": [2], \"type\": \"scatter\", \"mode\": \"markers\", \"y\": [0]}]}, {\"data\": [{\"marker\": {\"size\": 10}, \"x\": [1], \"type\": \"scatter\", \"mode\": \"markers\", \"y\": [2]}, {\"marker\": {\"size\": 10}, \"x\": [1], \"type\": \"scatter\", \"mode\": \"markers\", \"y\": [2]}]}, {\"data\": [{\"marker\": {\"size\": 10}, \"x\": [2], \"type\": \"scatter\", \"mode\": \"markers\", \"y\": [0]}, {\"marker\": {\"size\": 10}, \"x\": [0], \"type\": \"scatter\", \"mode\": \"markers\", \"y\": [0]}]}, {\"data\": [{\"marker\": {\"size\": 10}, \"x\": [0], \"type\": \"scatter\", \"mode\": \"markers\", \"y\": [0]}, {\"marker\": {\"size\": 10}, \"x\": [2], \"type\": \"scatter\", \"mode\": \"markers\", \"y\": [0]}]}, {\"data\": [{\"marker\": {\"size\": 10}, \"x\": [1], \"type\": \"scatter\", \"mode\": \"markers\", \"y\": [2]}, {\"marker\": {\"size\": 10}, \"x\": [1], \"type\": \"scatter\", \"mode\": \"markers\", \"y\": [2]}]}, {\"data\": [{\"marker\": {\"size\": 10}, \"x\": [2], \"type\": \"scatter\", \"mode\": \"markers\", \"y\": [0]}, {\"marker\": {\"size\": 10}, \"x\": [0], \"type\": \"scatter\", \"mode\": \"markers\", \"y\": [0]}]}, {\"data\": [{\"marker\": {\"size\": 10}, \"x\": [0], \"type\": \"scatter\", \"mode\": \"markers\", \"y\": [0]}, {\"marker\": {\"size\": 10}, \"x\": [2], \"type\": \"scatter\", \"mode\": \"markers\", \"y\": [0]}]}, {\"data\": [{\"marker\": {\"size\": 10}, \"x\": [1], \"type\": \"scatter\", \"mode\": \"markers\", \"y\": [2]}, {\"marker\": {\"size\": 10}, \"x\": [1], \"type\": \"scatter\", \"mode\": \"markers\", \"y\": [2]}]}, {\"data\": [{\"marker\": {\"size\": 10}, \"x\": [2], \"type\": \"scatter\", \"mode\": \"markers\", \"y\": [0]}, {\"marker\": {\"size\": 10}, \"x\": [0], \"type\": \"scatter\", \"mode\": \"markers\", \"y\": [0]}]}]);}).then(function(){Plotly.animate('e27a3661-2b09-4565-ac43-5836e1f6a6b2');})\n",
       "        });</script>"
      ]
     },
     "metadata": {},
     "output_type": "display_data"
    }
   ],
   "source": [
    "full_trace1 = {'type': 'scatter', 'mode': 'lines', 'x': x1, 'y': y1, 'showlegend': False}\n",
    "full_trace2 = {'type': 'scatter', 'mode': 'lines', 'x': x2, 'y': y2, 'showlegend': False}\n",
    "frames = [\n",
    "    {'data': [\n",
    "        {'type': 'scatter', 'mode': 'markers', 'marker': {'size': 10}, 'x': [x1_val], 'y': [y1_val]},\n",
    "        {'type': 'scatter', 'mode': 'markers', 'marker': {'size': 10}, 'x': [x2_val], 'y': [y2_val]},\n",
    "    ]}\n",
    "    for x1_val, y1_val, x2_val, y2_val in zip(x1, y1, x2, y2)\n",
    "]\n",
    "fig_animation = {\n",
    "    'data': [full_trace1, full_trace2, full_trace1, full_trace2],\n",
    "    'layout': {\n",
    "        'xaxis': {'range': [-1, 3]},\n",
    "        'yaxis': {'range': [-1, 3]},\n",
    "        'updatemenus': [\n",
    "            {\n",
    "                'buttons': [{'args': [None], 'label': 'Play', 'method': 'animate'}],\n",
    "                'pad': {'r': 10, 't': 87},\n",
    "                'showactive': False,\n",
    "                'type': 'buttons'\n",
    "            }\n",
    "        ]\n",
    "    },\n",
    "    'frames': frames\n",
    "}\n",
    "iplot(fig_animation, filename='sf-data-animation')"
   ]
  },
  {
   "cell_type": "code",
   "execution_count": null,
   "metadata": {
    "collapsed": true,
    "deletable": true,
    "editable": true
   },
   "outputs": [],
   "source": []
  }
 ],
 "metadata": {
  "kernelspec": {
   "display_name": "Python (data-sf)",
   "language": "python",
   "name": "data-sf"
  },
  "language_info": {
   "codemirror_mode": {
    "name": "ipython",
    "version": 2
   },
   "file_extension": ".py",
   "mimetype": "text/x-python",
   "name": "python",
   "nbconvert_exporter": "python",
   "pygments_lexer": "ipython2",
   "version": "2.7.11"
  }
 },
 "nbformat": 4,
 "nbformat_minor": 2
}
